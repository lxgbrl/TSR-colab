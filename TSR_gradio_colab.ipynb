{
  "cells": [
    {
      "cell_type": "markdown",
      "metadata": {
        "id": "view-in-github"
      },
      "source": [
        "[![Open In Colab](https://colab.research.google.com/assets/colab-badge.svg)](https://colab.research.google.com/github/lxgbrl/TSR-colab/blob/main/TSR_gradio_colab.ipynb)"
      ]
    },
    {
      "cell_type": "code",
      "execution_count": null,
      "metadata": {
        "id": "VjYy0F2gZIPR"
      },
      "outputs": [],
      "source": [
        "%cd /content\n",
        "!git clone -b dev https://github.com/lxgbrl/TripoSR-space\n",
        "%cd /content/TripoSR-space\n",
        "\n",
        "!pip install -q trimesh omegaconf einops rembg gradio\n",
        "!pip install -q https://github.com/lxgbrl/wheels/releases/download/colab/torchmcubes-0.1.0-cp310-cp310-linux_x86_64.whl\n",
        "\n",
        "# !apt -y install -qq aria2\n",
        "# !aria2c --console-log-level=error -c -x 16 -s 16 -k 1M https://huggingface.co/stabilityai/TripoSR/resolve/main/model.ckpt -d /content/model -o model.ckpt\n",
        "\n",
        "%cd /content/TripoSR-space\n",
        "!python app.py"
      ]
    }
  ],
  "metadata": {
    "accelerator": "GPU",
    "colab": {
      "gpuType": "T4",
      "provenance": []
    },
    "kernelspec": {
      "display_name": "Python 3",
      "name": "python3"
    },
    "language_info": {
      "name": "python"
    }
  },
  "nbformat": 4,
  "nbformat_minor": 0
}
